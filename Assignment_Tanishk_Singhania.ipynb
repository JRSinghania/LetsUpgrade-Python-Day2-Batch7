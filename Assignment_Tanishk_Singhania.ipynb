{
  "nbformat": 4,
  "nbformat_minor": 0,
  "metadata": {
    "colab": {
      "name": "Assignment Tanishk Singhania.ipynb",
      "provenance": [],
      "authorship_tag": "ABX9TyNrV5QPVOkIAHmp86ESfqBX",
      "include_colab_link": true
    },
    "kernelspec": {
      "name": "python3",
      "display_name": "Python 3"
    }
  },
  "cells": [
    {
      "cell_type": "markdown",
      "metadata": {
        "id": "view-in-github",
        "colab_type": "text"
      },
      "source": [
        "<a href=\"https://colab.research.google.com/github/JRSinghania/LetsUpgrade-Python-Day2-Batch7/blob/master/Assignment_Tanishk_Singhania.ipynb\" target=\"_parent\"><img src=\"https://colab.research.google.com/assets/colab-badge.svg\" alt=\"Open In Colab\"/></a>"
      ]
    },
    {
      "cell_type": "code",
      "metadata": {
        "id": "4YZ9J6NFGqH1",
        "colab_type": "code",
        "colab": {
          "base_uri": "https://localhost:8080/",
          "height": 121
        },
        "outputId": "071ff695-91f3-4471-e5b7-f2450ab0e7a8"
      },
      "source": [
        "l1 = [1,2,3,4,5,6,7,8,9,0]\n",
        "print (l1)\n",
        "l1.append(1)\n",
        "print (l1)\n",
        "l1.reverse()\n",
        "print (l1)\n",
        "s1 = {1,1,2,3,4,5,1,3}\n",
        "print (s1)\n",
        "s1.add(6)\n",
        "print (s1)\n",
        "s1.pop()"
      ],
      "execution_count": 21,
      "outputs": [
        {
          "output_type": "stream",
          "text": [
            "[1, 2, 3, 4, 5, 6, 7, 8, 9, 0]\n",
            "[1, 2, 3, 4, 5, 6, 7, 8, 9, 0, 1]\n",
            "[1, 0, 9, 8, 7, 6, 5, 4, 3, 2, 1]\n",
            "{1, 2, 3, 4, 5}\n",
            "{1, 2, 3, 4, 5, 6}\n"
          ],
          "name": "stdout"
        },
        {
          "output_type": "execute_result",
          "data": {
            "text/plain": [
              "1"
            ]
          },
          "metadata": {
            "tags": []
          },
          "execution_count": 21
        }
      ]
    }
  ]
}